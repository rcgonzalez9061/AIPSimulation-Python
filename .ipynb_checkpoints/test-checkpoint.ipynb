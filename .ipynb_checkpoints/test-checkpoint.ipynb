{
 "cells": [
  {
   "cell_type": "code",
   "execution_count": 21,
   "metadata": {},
   "outputs": [],
   "source": [
    "import json\n",
    "import pandas as pd\n",
    "from User import User\n",
    "import random"
   ]
  },
  {
   "cell_type": "code",
   "execution_count": 23,
   "metadata": {},
   "outputs": [],
   "source": [
    "# parameters_dict = json.loads(\"\"\"{\n",
    "#   \"numUsers\": 100,\n",
    "#   \"tickLimit\": 10000,\n",
    "#   \"postChance\": 0.1,\n",
    "#   \"topics\": [\"Privacy\", \"Public Transport\"]\n",
    "# }\"\"\")\n",
    "\n",
    "# type(parameters_dict[\"topics\"])"
   ]
  },
  {
   "cell_type": "code",
   "execution_count": 6,
   "metadata": {},
   "outputs": [
    {
     "data": {
      "text/plain": [
       "[<User.User at 0xa54f2b0>,\n",
       " <User.User at 0xa54f450>,\n",
       " <User.User at 0xa54f4d0>,\n",
       " <User.User at 0xa54f510>,\n",
       " <User.User at 0xa54f530>,\n",
       " <User.User at 0xa54f570>,\n",
       " <User.User at 0xa54f590>,\n",
       " <User.User at 0xa54f5b0>,\n",
       " <User.User at 0xa54f5d0>,\n",
       " <User.User at 0xa54f550>]"
      ]
     },
     "execution_count": 6,
     "metadata": {},
     "output_type": "execute_result"
    }
   ],
   "source": [
    "users = [User(i) for i in range(10)]\n",
    "users"
   ]
  },
  {
   "cell_type": "code",
   "execution_count": 1,
   "metadata": {},
   "outputs": [],
   "source": [
    "# df = pd.DataFrame(columns = [\"user\", \"topic\"])\n",
    "# for i in range(100):\n",
    "#     df.loc[df.shape[0]+1] = {'user': 1, \"topic\": \"Bruh\"}\n",
    "# %timeit df.loc[df.shape[0]] = {'user': 1, \"topic\": \"Bruh\"}\n",
    "# %timeit df.append({'user': 1, \"topic\": \"Bruh\"}, ignore_index=True)"
   ]
  },
  {
   "cell_type": "code",
   "execution_count": 19,
   "metadata": {},
   "outputs": [
    {
     "data": {
      "text/plain": [
       "1    False\n",
       "dtype: bool"
      ]
     },
     "execution_count": 19,
     "metadata": {},
     "output_type": "execute_result"
    }
   ],
   "source": [
    "pd.Series([True, False]).sample(weights=[0.1, 0.9])"
   ]
  },
  {
   "cell_type": "code",
   "execution_count": 32,
   "metadata": {},
   "outputs": [
    {
     "data": {
      "text/plain": [
       "False"
      ]
     },
     "execution_count": 32,
     "metadata": {},
     "output_type": "execute_result"
    }
   ],
   "source": [
    "random.uniform(0,1) < 0.1"
   ]
  },
  {
   "cell_type": "code",
   "execution_count": 29,
   "metadata": {},
   "outputs": [],
   "source": []
  },
  {
   "cell_type": "code",
   "execution_count": null,
   "metadata": {},
   "outputs": [],
   "source": []
  },
  {
   "cell_type": "code",
   "execution_count": null,
   "metadata": {},
   "outputs": [],
   "source": []
  }
 ],
 "metadata": {
  "kernelspec": {
   "display_name": "Python 3",
   "language": "python",
   "name": "python3"
  },
  "language_info": {
   "codemirror_mode": {
    "name": "ipython",
    "version": 3
   },
   "file_extension": ".py",
   "mimetype": "text/x-python",
   "name": "python",
   "nbconvert_exporter": "python",
   "pygments_lexer": "ipython3",
   "version": "3.7.4"
  }
 },
 "nbformat": 4,
 "nbformat_minor": 2
}
