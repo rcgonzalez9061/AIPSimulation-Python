{
 "cells": [
  {
   "cell_type": "code",
   "execution_count": null,
   "metadata": {},
   "outputs": [],
   "source": [
    "import json\n",
    "import pandas as pd\n",
    "from User import User\n",
    "import random\n",
    "import numpy as np\n",
    "from Simulation import Simulation\n",
    "import matplotlib.pyplot as plt\n",
    "\n",
    "%load_ext autoreload\n",
    "%autoreload 2"
   ]
  },
  {
   "cell_type": "code",
   "execution_count": null,
   "metadata": {},
   "outputs": [],
   "source": [
    "# parameters_dict = json.loads(\"\"\"{\n",
    "#   \"numUsers\": 100,\n",
    "#   \"tickLimit\": 10000,\n",
    "#   \"postChance\": 0.1,\n",
    "#   \"topics\": [\"Privacy\", \"Public Transport\"]\n",
    "# }\"\"\")\n",
    "\n",
    "# type(parameters_dict[\"topics\"])"
   ]
  },
  {
   "cell_type": "code",
   "execution_count": 23,
   "metadata": {},
   "outputs": [
    {
     "name": "stdout",
     "output_type": "stream",
     "text": [
      "Beginning tick 100, 100.0% complete.\n",
      "Finshed.\n"
     ]
    }
   ],
   "source": [
    "sim = Simulation(\"test_param.json\")\n",
    "sim.run()"
   ]
  },
  {
   "cell_type": "code",
   "execution_count": 24,
   "metadata": {},
   "outputs": [
    {
     "data": {
      "text/html": [
       "<div>\n",
       "<style scoped>\n",
       "    .dataframe tbody tr th:only-of-type {\n",
       "        vertical-align: middle;\n",
       "    }\n",
       "\n",
       "    .dataframe tbody tr th {\n",
       "        vertical-align: top;\n",
       "    }\n",
       "\n",
       "    .dataframe thead th {\n",
       "        text-align: right;\n",
       "    }\n",
       "</style>\n",
       "<table border=\"1\" class=\"dataframe\">\n",
       "  <thead>\n",
       "    <tr style=\"text-align: right;\">\n",
       "      <th></th>\n",
       "      <th>user</th>\n",
       "      <th>topic</th>\n",
       "      <th>tick</th>\n",
       "    </tr>\n",
       "  </thead>\n",
       "  <tbody>\n",
       "    <tr>\n",
       "      <th>0</th>\n",
       "      <td>7</td>\n",
       "      <td>Public Transportation</td>\n",
       "      <td>0</td>\n",
       "    </tr>\n",
       "    <tr>\n",
       "      <th>1</th>\n",
       "      <td>5</td>\n",
       "      <td>Privacy</td>\n",
       "      <td>3</td>\n",
       "    </tr>\n",
       "    <tr>\n",
       "      <th>2</th>\n",
       "      <td>7</td>\n",
       "      <td>Privacy</td>\n",
       "      <td>3</td>\n",
       "    </tr>\n",
       "    <tr>\n",
       "      <th>3</th>\n",
       "      <td>2</td>\n",
       "      <td>Public Transportation</td>\n",
       "      <td>4</td>\n",
       "    </tr>\n",
       "    <tr>\n",
       "      <th>4</th>\n",
       "      <td>4</td>\n",
       "      <td>Privacy</td>\n",
       "      <td>4</td>\n",
       "    </tr>\n",
       "  </tbody>\n",
       "</table>\n",
       "</div>"
      ],
      "text/plain": [
       "   user                  topic  tick\n",
       "0     7  Public Transportation     0\n",
       "1     5                Privacy     3\n",
       "2     7                Privacy     3\n",
       "3     2  Public Transportation     4\n",
       "4     4                Privacy     4"
      ]
     },
     "execution_count": 24,
     "metadata": {},
     "output_type": "execute_result"
    }
   ],
   "source": [
    "pd.read_csv(\"post record.csv\", ).head()"
   ]
  },
  {
   "cell_type": "code",
   "execution_count": 25,
   "metadata": {},
   "outputs": [
    {
     "data": {
      "image/png": "[encoded data removed]",
      "text/plain": [
       "<Figure size 432x288 with 1 Axes>"
      ]
     },
     "metadata": {},
     "output_type": "display_data"
    }
   ],
   "source": [
    "values = pd.read_csv(\"values record.csv\")\n",
    "values = values.pivot_table(\"Public Transportation\", \"tick\", \"user\")\n",
    "\n",
    "# style\n",
    "plt.style.use('seaborn-darkgrid')\n",
    " \n",
    "# create a color palette\n",
    "palette = plt.get_cmap('Set1')\n",
    "\n",
    "num=0\n",
    "for column in values:\n",
    "    num+=1\n",
    "    plt.plot(values.index, values[column], marker='', color=palette(num), linewidth=0.6, alpha=0.9, label=column)"
   ]
  },
  {
   "cell_type": "code",
   "execution_count": 26,
   "metadata": {},
   "outputs": [
    {
     "data": {
      "text/plain": [
       "array([[0.27804408, 2.84960237],\n",
       "       [3.62504568, 6.99166202],\n",
       "       [0.59388512, 1.22300533]])"
      ]
     },
     "execution_count": 26,
     "metadata": {},
     "output_type": "execute_result"
    }
   ],
   "source": [
    "np.random.rand(3, 2) * (20 - 10)"
   ]
  },
  {
   "cell_type": "code",
   "execution_count": null,
   "metadata": {},
   "outputs": [],
   "source": [
    "values.plot?"
   ]
  },
  {
   "cell_type": "code",
   "execution_count": 22,
   "metadata": {},
   "outputs": [
    {
     "data": {
      "text/html": [
       "<div>\n",
       "<style scoped>\n",
       "    .dataframe tbody tr th:only-of-type {\n",
       "        vertical-align: middle;\n",
       "    }\n",
       "\n",
       "    .dataframe tbody tr th {\n",
       "        vertical-align: top;\n",
       "    }\n",
       "\n",
       "    .dataframe thead th {\n",
       "        text-align: right;\n",
       "    }\n",
       "</style>\n",
       "<table border=\"1\" class=\"dataframe\">\n",
       "  <thead>\n",
       "    <tr style=\"text-align: right;\">\n",
       "      <th>user</th>\n",
       "      <th>0.0</th>\n",
       "      <th>1.0</th>\n",
       "      <th>2.0</th>\n",
       "      <th>3.0</th>\n",
       "      <th>4.0</th>\n",
       "      <th>5.0</th>\n",
       "      <th>6.0</th>\n",
       "      <th>7.0</th>\n",
       "      <th>8.0</th>\n",
       "      <th>9.0</th>\n",
       "    </tr>\n",
       "    <tr>\n",
       "      <th>tick</th>\n",
       "      <th></th>\n",
       "      <th></th>\n",
       "      <th></th>\n",
       "      <th></th>\n",
       "      <th></th>\n",
       "      <th></th>\n",
       "      <th></th>\n",
       "      <th></th>\n",
       "      <th></th>\n",
       "      <th></th>\n",
       "    </tr>\n",
       "  </thead>\n",
       "  <tbody>\n",
       "    <tr>\n",
       "      <th>0.0</th>\n",
       "      <td>5.856491</td>\n",
       "      <td>1.450915</td>\n",
       "      <td>4.021584</td>\n",
       "      <td>-7.571401</td>\n",
       "      <td>-7.765377</td>\n",
       "      <td>8.436095</td>\n",
       "      <td>-3.285134</td>\n",
       "      <td>-6.771952</td>\n",
       "      <td>8.781884</td>\n",
       "      <td>3.569659</td>\n",
       "    </tr>\n",
       "    <tr>\n",
       "      <th>1.0</th>\n",
       "      <td>6.770654</td>\n",
       "      <td>2.826752</td>\n",
       "      <td>5.911555</td>\n",
       "      <td>-7.571401</td>\n",
       "      <td>-8.213402</td>\n",
       "      <td>10.036844</td>\n",
       "      <td>-3.285134</td>\n",
       "      <td>-6.692008</td>\n",
       "      <td>8.781884</td>\n",
       "      <td>4.255138</td>\n",
       "    </tr>\n",
       "    <tr>\n",
       "      <th>2.0</th>\n",
       "      <td>6.770654</td>\n",
       "      <td>2.826752</td>\n",
       "      <td>5.911555</td>\n",
       "      <td>-7.571401</td>\n",
       "      <td>-8.213402</td>\n",
       "      <td>10.036844</td>\n",
       "      <td>-3.285134</td>\n",
       "      <td>-6.692008</td>\n",
       "      <td>8.781884</td>\n",
       "      <td>4.255138</td>\n",
       "    </tr>\n",
       "    <tr>\n",
       "      <th>3.0</th>\n",
       "      <td>6.770654</td>\n",
       "      <td>2.826752</td>\n",
       "      <td>5.911555</td>\n",
       "      <td>-7.571401</td>\n",
       "      <td>-8.213402</td>\n",
       "      <td>10.036844</td>\n",
       "      <td>-3.285134</td>\n",
       "      <td>-6.692008</td>\n",
       "      <td>8.781884</td>\n",
       "      <td>4.255138</td>\n",
       "    </tr>\n",
       "    <tr>\n",
       "      <th>4.0</th>\n",
       "      <td>6.770654</td>\n",
       "      <td>2.826752</td>\n",
       "      <td>5.911555</td>\n",
       "      <td>-7.571401</td>\n",
       "      <td>-8.213402</td>\n",
       "      <td>10.036844</td>\n",
       "      <td>-3.285134</td>\n",
       "      <td>-6.692008</td>\n",
       "      <td>8.781884</td>\n",
       "      <td>4.255138</td>\n",
       "    </tr>\n",
       "    <tr>\n",
       "      <th>...</th>\n",
       "      <td>...</td>\n",
       "      <td>...</td>\n",
       "      <td>...</td>\n",
       "      <td>...</td>\n",
       "      <td>...</td>\n",
       "      <td>...</td>\n",
       "      <td>...</td>\n",
       "      <td>...</td>\n",
       "      <td>...</td>\n",
       "      <td>...</td>\n",
       "    </tr>\n",
       "    <tr>\n",
       "      <th>97.0</th>\n",
       "      <td>10.265842</td>\n",
       "      <td>130.971873</td>\n",
       "      <td>164.174906</td>\n",
       "      <td>-53.841048</td>\n",
       "      <td>-122.732456</td>\n",
       "      <td>45.425042</td>\n",
       "      <td>-40.164717</td>\n",
       "      <td>-55.807921</td>\n",
       "      <td>38.495745</td>\n",
       "      <td>19.187162</td>\n",
       "    </tr>\n",
       "    <tr>\n",
       "      <th>98.0</th>\n",
       "      <td>10.265842</td>\n",
       "      <td>130.971873</td>\n",
       "      <td>164.174906</td>\n",
       "      <td>-53.841048</td>\n",
       "      <td>-122.732456</td>\n",
       "      <td>45.425042</td>\n",
       "      <td>-40.164717</td>\n",
       "      <td>-55.807921</td>\n",
       "      <td>38.495745</td>\n",
       "      <td>19.187162</td>\n",
       "    </tr>\n",
       "    <tr>\n",
       "      <th>99.0</th>\n",
       "      <td>10.265842</td>\n",
       "      <td>156.342306</td>\n",
       "      <td>192.865642</td>\n",
       "      <td>-46.951907</td>\n",
       "      <td>-122.732456</td>\n",
       "      <td>45.425042</td>\n",
       "      <td>-40.164717</td>\n",
       "      <td>-55.807921</td>\n",
       "      <td>54.618565</td>\n",
       "      <td>19.187162</td>\n",
       "    </tr>\n",
       "    <tr>\n",
       "      <th>100.0</th>\n",
       "      <td>10.265842</td>\n",
       "      <td>156.342306</td>\n",
       "      <td>192.865642</td>\n",
       "      <td>-46.951907</td>\n",
       "      <td>-122.732456</td>\n",
       "      <td>45.425042</td>\n",
       "      <td>-40.164717</td>\n",
       "      <td>-55.807921</td>\n",
       "      <td>54.618565</td>\n",
       "      <td>19.187162</td>\n",
       "    </tr>\n",
       "    <tr>\n",
       "      <th>101.0</th>\n",
       "      <td>10.265842</td>\n",
       "      <td>156.342306</td>\n",
       "      <td>192.865642</td>\n",
       "      <td>-46.951907</td>\n",
       "      <td>-122.732456</td>\n",
       "      <td>45.425042</td>\n",
       "      <td>-40.164717</td>\n",
       "      <td>-55.807921</td>\n",
       "      <td>54.618565</td>\n",
       "      <td>19.187162</td>\n",
       "    </tr>\n",
       "  </tbody>\n",
       "</table>\n",
       "<p>102 rows × 10 columns</p>\n",
       "</div>"
      ],
      "text/plain": [
       "user         0.0         1.0         2.0        3.0         4.0        5.0  \\\n",
       "tick                                                                         \n",
       "0.0     5.856491    1.450915    4.021584  -7.571401   -7.765377   8.436095   \n",
       "1.0     6.770654    2.826752    5.911555  -7.571401   -8.213402  10.036844   \n",
       "2.0     6.770654    2.826752    5.911555  -7.571401   -8.213402  10.036844   \n",
       "3.0     6.770654    2.826752    5.911555  -7.571401   -8.213402  10.036844   \n",
       "4.0     6.770654    2.826752    5.911555  -7.571401   -8.213402  10.036844   \n",
       "...          ...         ...         ...        ...         ...        ...   \n",
       "97.0   10.265842  130.971873  164.174906 -53.841048 -122.732456  45.425042   \n",
       "98.0   10.265842  130.971873  164.174906 -53.841048 -122.732456  45.425042   \n",
       "99.0   10.265842  156.342306  192.865642 -46.951907 -122.732456  45.425042   \n",
       "100.0  10.265842  156.342306  192.865642 -46.951907 -122.732456  45.425042   \n",
       "101.0  10.265842  156.342306  192.865642 -46.951907 -122.732456  45.425042   \n",
       "\n",
       "user         6.0        7.0        8.0        9.0  \n",
       "tick                                               \n",
       "0.0    -3.285134  -6.771952   8.781884   3.569659  \n",
       "1.0    -3.285134  -6.692008   8.781884   4.255138  \n",
       "2.0    -3.285134  -6.692008   8.781884   4.255138  \n",
       "3.0    -3.285134  -6.692008   8.781884   4.255138  \n",
       "4.0    -3.285134  -6.692008   8.781884   4.255138  \n",
       "...          ...        ...        ...        ...  \n",
       "97.0  -40.164717 -55.807921  38.495745  19.187162  \n",
       "98.0  -40.164717 -55.807921  38.495745  19.187162  \n",
       "99.0  -40.164717 -55.807921  54.618565  19.187162  \n",
       "100.0 -40.164717 -55.807921  54.618565  19.187162  \n",
       "101.0 -40.164717 -55.807921  54.618565  19.187162  \n",
       "\n",
       "[102 rows x 10 columns]"
      ]
     },
     "execution_count": 22,
     "metadata": {},
     "output_type": "execute_result"
    }
   ],
   "source": [
    "values"
   ]
  },
  {
   "cell_type": "code",
   "execution_count": null,
   "metadata": {},
   "outputs": [],
   "source": [
    "print?"
   ]
  },
  {
   "cell_type": "code",
   "execution_count": null,
   "metadata": {},
   "outputs": [],
   "source": [
    "users = pd.Series([User(i) for i in range(10)])"
   ]
  },
  {
   "cell_type": "code",
   "execution_count": null,
   "metadata": {},
   "outputs": [],
   "source": [
    "pd.Series([True, False]).sample(weights=[0.1, 0.9])"
   ]
  },
  {
   "cell_type": "code",
   "execution_count": null,
   "metadata": {},
   "outputs": [],
   "source": [
    "topics = [\"Privacy\", \"Public Transport\"]\n",
    "values = (\n",
    "    pd.DataFrame(np.random.rand(users.size, len(topics)) * 20 - 10,\n",
    "                 index = users.index,\n",
    "                 columns = topics)\n",
    ")\n",
    "deltas = (\n",
    "    pd.DataFrame(np.random.rand(users.size, len(topics)) * 20 - 10,\n",
    "                 index = users.index,\n",
    "                 columns = topics)\n",
    ")\n",
    "test_users = {}\n",
    "values"
   ]
  },
  {
   "cell_type": "code",
   "execution_count": null,
   "metadata": {},
   "outputs": [],
   "source": [
    "values.loc['Privacy']"
   ]
  },
  {
   "cell_type": "code",
   "execution_count": null,
   "metadata": {},
   "outputs": [],
   "source": [
    "df = pd.DataFrame(columns=[\"Privacy\", \"Public Transport\"])\n",
    "\n",
    "class Test:\n",
    "    def append(self, row):\n",
    "        df.loc[df.shape[0]] = row\n",
    "        \n",
    "t = Test()\n",
    "\n",
    "%timeit values.apply(t.append, axis = 1)"
   ]
  },
  {
   "cell_type": "code",
   "execution_count": null,
   "metadata": {},
   "outputs": [],
   "source": [
    "# values.apply(t.append, axis = 1)\n",
    "# df"
   ]
  },
  {
   "cell_type": "code",
   "execution_count": null,
   "metadata": {
    "scrolled": true
   },
   "outputs": [],
   "source": [
    "np.random.rand(users.size, len(topics)) * 20 - 10"
   ]
  },
  {
   "cell_type": "code",
   "execution_count": null,
   "metadata": {},
   "outputs": [],
   "source": [
    "dic = set()\n",
    "dic.update(pd.Series(users.index).sample(5))\n",
    "dic"
   ]
  },
  {
   "cell_type": "code",
   "execution_count": null,
   "metadata": {},
   "outputs": [],
   "source": [
    "deltas"
   ]
  },
  {
   "cell_type": "code",
   "execution_count": null,
   "metadata": {
    "scrolled": true
   },
   "outputs": [],
   "source": [
    "values.loc[dic]"
   ]
  },
  {
   "cell_type": "code",
   "execution_count": null,
   "metadata": {},
   "outputs": [],
   "source": [
    "deltas.loc[dic, \"Privacy\"] += values.loc[dic, \"Privacy\"]"
   ]
  },
  {
   "cell_type": "code",
   "execution_count": null,
   "metadata": {},
   "outputs": [],
   "source": [
    "deltas "
   ]
  },
  {
   "cell_type": "code",
   "execution_count": null,
   "metadata": {},
   "outputs": [],
   "source": [
    "values.loc[5, \"Privacy\"]"
   ]
  },
  {
   "cell_type": "code",
   "execution_count": null,
   "metadata": {},
   "outputs": [],
   "source": [
    "deltas.clip(-10, 10)"
   ]
  },
  {
   "cell_type": "code",
   "execution_count": null,
   "metadata": {},
   "outputs": [],
   "source": [
    "with open(\"test_param.json\", 'r') as text:\n",
    "    json.loads(text.read())"
   ]
  },
  {
   "cell_type": "code",
   "execution_count": null,
   "metadata": {},
   "outputs": [],
   "source": [
    "json.loads?"
   ]
  },
  {
   "cell_type": "code",
   "execution_count": null,
   "metadata": {},
   "outputs": [],
   "source": [
    "random?"
   ]
  },
  {
   "cell_type": "code",
   "execution_count": null,
   "metadata": {},
   "outputs": [],
   "source": [
    "# s = set([1,2,3])\n",
    "s.remove(1)\n",
    "s"
   ]
  },
  {
   "cell_type": "code",
   "execution_count": null,
   "metadata": {},
   "outputs": [],
   "source": []
  }
 ],
 "metadata": {
  "kernelspec": {
   "display_name": "Python 3",
   "language": "python",
   "name": "python3"
  },
  "language_info": {
   "codemirror_mode": {
    "name": "ipython",
    "version": 3
   },
   "file_extension": ".py",
   "mimetype": "text/x-python",
   "name": "python",
   "nbconvert_exporter": "python",
   "pygments_lexer": "ipython3",
   "version": "3.7.2"
  }
 },
 "nbformat": 4,
 "nbformat_minor": 2
}
