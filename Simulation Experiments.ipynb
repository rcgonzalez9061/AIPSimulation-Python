{
 "cells": [
  {
   "cell_type": "markdown",
   "metadata": {},
   "source": [
    "# Simulation Experiments\n",
    "\n",
    "This notebook is focused on using the Social Media Simulation module I developed to test whether it is possible to observe/recreate emergent phenomena in IRL social media in our simulation.\n",
    "\n",
    "## Simulation Overview\n",
    "The simulation uses a combination of Python and Pandas to create a rudimentary representation of a social media platform. Users in our simulation have two attributes:\n",
    "1. Followers: a set of others users in the simulation that will be influenced by that user\n",
    "2. Values: opinions on topics ranging from [-10, 10]\n",
    "\n",
    "On each tick of our simulation, each user has a chance to make a Post on a random topic. This post influences the friends of that user based on a function of the two users' opinions on that topic. The simulation keeps each user's values in a dataframe indexed by their unique id number with the comlumns being the names of the topics. It also records these values to a csv file so trends in the simulation can be analyzed afterward with the columns `tick`, `user`, and the topics of the simuation. Information on all of the simulations parameters are available in the Simulation's readme.\n",
    "\n",
    "## Limitations\n",
    "\n",
    "Our simulation is limited in its application by the assumptions that:\n",
    "* A user's opinion on topics can be simply represented on a 1 dimensional scale.\n",
    "* A user has no influences from outside the social media site.\n",
    "* Random friend generation"
   ]
  },
  {
   "cell_type": "markdown",
   "metadata": {},
   "source": [
    "## Brainstorming\n",
    "### Hypothesis 1: Polarisation\n",
    "### Hypothesis 2: Effects of directionality\n",
    "How does directionality (followers vs. friends) effect how values change in the simulation. Is it the same in real life?"
   ]
  },
  {
   "cell_type": "code",
   "execution_count": null,
   "metadata": {},
   "outputs": [],
   "source": []
  },
  {
   "cell_type": "code",
   "execution_count": null,
   "metadata": {},
   "outputs": [],
   "source": []
  }
 ],
 "metadata": {
  "kernelspec": {
   "display_name": "Python 3",
   "language": "python",
   "name": "python3"
  },
  "language_info": {
   "codemirror_mode": {
    "name": "ipython",
    "version": 3
   },
   "file_extension": ".py",
   "mimetype": "text/x-python",
   "name": "python",
   "nbconvert_exporter": "python",
   "pygments_lexer": "ipython3",
   "version": "3.7.4"
  }
 },
 "nbformat": 4,
 "nbformat_minor": 2
}
