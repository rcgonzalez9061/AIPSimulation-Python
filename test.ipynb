{
 "cells": [
  {
   "cell_type": "code",
   "execution_count": 1,
   "metadata": {
    "scrolled": true
   },
   "outputs": [],
   "source": [
    "import json\n",
    "import pandas as pd\n",
    "import random\n",
    "import numpy as np\n",
    "from Simulation import Simulation\n",
    "import matplotlib.pyplot as plt\n",
    "import os\n",
    "\n",
    "%load_ext autoreload\n",
    "%autoreload 2"
   ]
  },
  {
   "cell_type": "code",
   "execution_count": 2,
   "metadata": {},
   "outputs": [],
   "source": [
    "def graph_topic(record, topic, save_path=None):\n",
    "    values = pd.read_csv(record)\n",
    "    values = values.pivot_table(topic, \"tick\", \"user\")\n",
    "\n",
    "    # Title\n",
    "    plt.title(\"Opinions on {} over time\\n(log function)\".format(topic))\n",
    "\n",
    "    # style\n",
    "    plt.style.use('seaborn-darkgrid')\n",
    "\n",
    "    # create a color palette\n",
    "    # palette = plt.get_cmap('Set1')\n",
    "\n",
    "    iteration=0\n",
    "    for column in values:\n",
    "        iteration+=1\n",
    "        plt.plot(values.index, values[column], marker='', linewidth=0.6, alpha=0.9, label=column)\n",
    "        if iteration == 100:\n",
    "            if save_path:\n",
    "                plt.savefig(save_path, dpi=600)\n",
    "            else:\n",
    "                plt.savefig('{}.png'.format(topic), dpi=600)"
   ]
  },
  {
   "cell_type": "code",
   "execution_count": null,
   "metadata": {},
   "outputs": [],
   "source": [
    "sim = Simulation(\"test_param.json\")\n",
    "sim.save_adjacency_matrix()\n",
    "sim.run()"
   ]
  },
  {
   "cell_type": "code",
   "execution_count": null,
   "metadata": {
    "scrolled": false
   },
   "outputs": [],
   "source": [
    "# graph_topic(\"values record.csv\", \"Iran\")"
   ]
  },
  {
   "cell_type": "code",
   "execution_count": null,
   "metadata": {},
   "outputs": [],
   "source": [
    "# graph_topic(\"values record.csv\", \"Privacy\")"
   ]
  },
  {
   "cell_type": "code",
   "execution_count": null,
   "metadata": {},
   "outputs": [],
   "source": [
    "# graph_topic(\"values record.csv\", \"Public Transportation\")"
   ]
  },
  {
   "cell_type": "code",
   "execution_count": null,
   "metadata": {},
   "outputs": [],
   "source": [
    "values = pd.read_csv(\"values record.csv\")\n",
    "values = values.astype({'user': int,\n",
    "                        'tick': int})\n",
    "values = values.iloc[ :100, :]\n",
    "values.head()"
   ]
  },
  {
   "cell_type": "markdown",
   "metadata": {},
   "source": [
    "# Consistency Tests\n",
    "Testing whether the simulation abides by its rules.\n",
    "\n",
    "First, whether we can rebuild the friend matrix."
   ]
  },
  {
   "cell_type": "code",
   "execution_count": 26,
   "metadata": {},
   "outputs": [],
   "source": [
    "def test_adj_mat(mat1, mat2):\n",
    "    df1 = pd.read_csv(mat1, header=None)\n",
    "    df2 = pd.read_csv(mat2, header=None)\n",
    "    return df1.equals(df2)"
   ]
  },
  {
   "cell_type": "code",
   "execution_count": 33,
   "metadata": {
    "scrolled": true
   },
   "outputs": [],
   "source": [
    "sim = Simulation(os.path.join(\"tests\", \"freinds_test1.json\"))\n",
    "sim.save_adjacency_matrix(\"adj_matrix1.csv\")\n",
    "sim = Simulation(os.path.join(\"tests\", \"freinds_test2.json\"))\n",
    "sim.save_adjacency_matrix(\"adj_matrix2.csv\")"
   ]
  },
  {
   "cell_type": "code",
   "execution_count": 34,
   "metadata": {},
   "outputs": [
    {
     "data": {
      "text/plain": [
       "True"
      ]
     },
     "execution_count": 34,
     "metadata": {},
     "output_type": "execute_result"
    }
   ],
   "source": [
    "test_adj_mat('adj_matrix1.csv','adj_matrix2.csv')"
   ]
  },
  {
   "cell_type": "markdown",
   "metadata": {},
   "source": [
    "Second: are the values and posts the same with the same seed?"
   ]
  },
  {
   "cell_type": "code",
   "execution_count": 35,
   "metadata": {},
   "outputs": [
    {
     "name": "stdout",
     "output_type": "stream",
     "text": [
      "Beginning tick 50, 100.0% complete.\n",
      "Finshed.\n",
      "Beginning tick 50, 100.0% complete.\n",
      "Finshed.\n"
     ]
    }
   ],
   "source": [
    "sim1 = Simulation(os.path.join(\"tests\", \"values_test1.json\"))\n",
    "sim1.run()\n",
    "sim2 = Simulation(os.path.join(\"tests\", \"values_test2.json\"))\n",
    "sim2.run()"
   ]
  },
  {
   "cell_type": "code",
   "execution_count": 36,
   "metadata": {},
   "outputs": [],
   "source": [
    "values1 = pd.read_csv(\"values1.csv\")\n",
    "post1 = pd.read_csv(\"posts1.csv\")"
   ]
  },
  {
   "cell_type": "code",
   "execution_count": 37,
   "metadata": {
    "scrolled": true
   },
   "outputs": [],
   "source": [
    "values2 = pd.read_csv(\"values2.csv\")\n",
    "post2 = pd.read_csv(\"posts2.csv\")"
   ]
  },
  {
   "cell_type": "code",
   "execution_count": 43,
   "metadata": {},
   "outputs": [
    {
     "data": {
      "text/plain": [
       "(True, True)"
      ]
     },
     "execution_count": 43,
     "metadata": {},
     "output_type": "execute_result"
    }
   ],
   "source": [
    "values1.equals(values2), post1.equals(post2)"
   ]
  }
 ],
 "metadata": {
  "kernelspec": {
   "display_name": "Python 3",
   "language": "python",
   "name": "python3"
  },
  "language_info": {
   "codemirror_mode": {
    "name": "ipython",
    "version": 3
   },
   "file_extension": ".py",
   "mimetype": "text/x-python",
   "name": "python",
   "nbconvert_exporter": "python",
   "pygments_lexer": "ipython3",
   "version": "3.7.2"
  }
 },
 "nbformat": 4,
 "nbformat_minor": 2
}
