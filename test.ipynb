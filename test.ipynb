{
 "cells": [
  {
   "cell_type": "code",
   "execution_count": 1,
   "metadata": {},
   "outputs": [],
   "source": [
    "import json\n",
    "import pandas as pd\n",
    "from User import User\n",
    "import random\n",
    "import numpy as np\n",
    "import Simulation\n",
    "\n",
    "%load_ext autoreload\n",
    "%autoreload 2"
   ]
  },
  {
   "cell_type": "code",
   "execution_count": 2,
   "metadata": {},
   "outputs": [],
   "source": [
    "# parameters_dict = json.loads(\"\"\"{\n",
    "#   \"numUsers\": 100,\n",
    "#   \"tickLimit\": 10000,\n",
    "#   \"postChance\": 0.1,\n",
    "#   \"topics\": [\"Privacy\", \"Public Transport\"]\n",
    "# }\"\"\")\n",
    "\n",
    "# type(parameters_dict[\"topics\"])"
   ]
  },
  {
   "cell_type": "code",
   "execution_count": 3,
   "metadata": {},
   "outputs": [
    {
     "data": {
      "text/plain": [
       "0    <User.User object at 0x000001D85AB2C6D8>\n",
       "1    <User.User object at 0x000001D85AB2C710>\n",
       "2    <User.User object at 0x000001D85AB2C748>\n",
       "3    <User.User object at 0x000001D85AB2C7B8>\n",
       "4    <User.User object at 0x000001D85AB2C7F0>\n",
       "5    <User.User object at 0x000001D85AB2C828>\n",
       "6    <User.User object at 0x000001D85AB2C860>\n",
       "7    <User.User object at 0x000001D85AB2C898>\n",
       "8    <User.User object at 0x000001D85AB2C8D0>\n",
       "9    <User.User object at 0x000001D85AB2C908>\n",
       "dtype: object"
      ]
     },
     "execution_count": 3,
     "metadata": {},
     "output_type": "execute_result"
    }
   ],
   "source": [
    "users = pd.Series([User(i) for i in range(10)])\n",
    "users"
   ]
  },
  {
   "cell_type": "code",
   "execution_count": 4,
   "metadata": {},
   "outputs": [],
   "source": [
    "# df = pd.DataFrame(columns = [\"user\", \"topic\"])\n",
    "# for i in range(100):\n",
    "#     df.loc[df.shape[0]+1] = {'user': 1, \"topic\": \"Bruh\"}\n",
    "# %timeit df.loc[df.shape[0]] = {'user': 1, \"topic\": \"Bruh\"}\n",
    "# %timeit df.append({'user': 1, \"topic\": \"Bruh\"}, ignore_index=True)"
   ]
  },
  {
   "cell_type": "code",
   "execution_count": 5,
   "metadata": {},
   "outputs": [
    {
     "data": {
      "text/plain": [
       "1    False\n",
       "dtype: bool"
      ]
     },
     "execution_count": 5,
     "metadata": {},
     "output_type": "execute_result"
    }
   ],
   "source": [
    "pd.Series([True, False]).sample(weights=[0.1, 0.9])"
   ]
  },
  {
   "cell_type": "code",
   "execution_count": 6,
   "metadata": {},
   "outputs": [
    {
     "data": {
      "text/html": [
       "<div>\n",
       "<style scoped>\n",
       "    .dataframe tbody tr th:only-of-type {\n",
       "        vertical-align: middle;\n",
       "    }\n",
       "\n",
       "    .dataframe tbody tr th {\n",
       "        vertical-align: top;\n",
       "    }\n",
       "\n",
       "    .dataframe thead th {\n",
       "        text-align: right;\n",
       "    }\n",
       "</style>\n",
       "<table border=\"1\" class=\"dataframe\">\n",
       "  <thead>\n",
       "    <tr style=\"text-align: right;\">\n",
       "      <th></th>\n",
       "      <th>Privacy</th>\n",
       "      <th>Public Transport</th>\n",
       "    </tr>\n",
       "  </thead>\n",
       "  <tbody>\n",
       "    <tr>\n",
       "      <th>0</th>\n",
       "      <td>6.919432</td>\n",
       "      <td>-1.793599</td>\n",
       "    </tr>\n",
       "    <tr>\n",
       "      <th>1</th>\n",
       "      <td>3.218320</td>\n",
       "      <td>2.757529</td>\n",
       "    </tr>\n",
       "    <tr>\n",
       "      <th>2</th>\n",
       "      <td>-2.363370</td>\n",
       "      <td>-1.059821</td>\n",
       "    </tr>\n",
       "    <tr>\n",
       "      <th>3</th>\n",
       "      <td>-2.258788</td>\n",
       "      <td>4.057557</td>\n",
       "    </tr>\n",
       "    <tr>\n",
       "      <th>4</th>\n",
       "      <td>0.398958</td>\n",
       "      <td>3.948671</td>\n",
       "    </tr>\n",
       "    <tr>\n",
       "      <th>5</th>\n",
       "      <td>9.537877</td>\n",
       "      <td>-6.905367</td>\n",
       "    </tr>\n",
       "    <tr>\n",
       "      <th>6</th>\n",
       "      <td>8.849571</td>\n",
       "      <td>-7.603097</td>\n",
       "    </tr>\n",
       "    <tr>\n",
       "      <th>7</th>\n",
       "      <td>-0.703380</td>\n",
       "      <td>-5.017009</td>\n",
       "    </tr>\n",
       "    <tr>\n",
       "      <th>8</th>\n",
       "      <td>-2.682900</td>\n",
       "      <td>-6.934189</td>\n",
       "    </tr>\n",
       "    <tr>\n",
       "      <th>9</th>\n",
       "      <td>-6.323327</td>\n",
       "      <td>8.164920</td>\n",
       "    </tr>\n",
       "  </tbody>\n",
       "</table>\n",
       "</div>"
      ],
      "text/plain": [
       "    Privacy  Public Transport\n",
       "0  6.919432         -1.793599\n",
       "1  3.218320          2.757529\n",
       "2 -2.363370         -1.059821\n",
       "3 -2.258788          4.057557\n",
       "4  0.398958          3.948671\n",
       "5  9.537877         -6.905367\n",
       "6  8.849571         -7.603097\n",
       "7 -0.703380         -5.017009\n",
       "8 -2.682900         -6.934189\n",
       "9 -6.323327          8.164920"
      ]
     },
     "execution_count": 6,
     "metadata": {},
     "output_type": "execute_result"
    }
   ],
   "source": [
    "topics = [\"Privacy\", \"Public Transport\"]\n",
    "values = (\n",
    "    pd.DataFrame(np.random.rand(users.size, len(topics)) * 20 - 10,\n",
    "                 index = users.index,\n",
    "                 columns = topics)\n",
    ")\n",
    "deltas = (\n",
    "    pd.DataFrame(np.random.rand(users.size, len(topics)) * 20 - 10,\n",
    "                 index = users.index,\n",
    "                 columns = topics)\n",
    ")\n",
    "test_users = {}\n",
    "values"
   ]
  },
  {
   "cell_type": "code",
   "execution_count": 7,
   "metadata": {},
   "outputs": [
    {
     "data": {
      "text/plain": [
       "array([[ 1.56874498,  5.36444297],\n",
       "       [ 0.16001779, -9.97427969],\n",
       "       [-3.94195198,  0.64962112],\n",
       "       [ 2.24810307,  9.96345128],\n",
       "       [ 6.07380448,  7.35160467],\n",
       "       [-5.73273955,  7.18402601],\n",
       "       [-3.29282826,  1.51973809],\n",
       "       [-1.20646515,  0.7095187 ],\n",
       "       [ 7.21746303,  5.16346645],\n",
       "       [ 0.15488356,  7.81059474]])"
      ]
     },
     "execution_count": 7,
     "metadata": {},
     "output_type": "execute_result"
    }
   ],
   "source": [
    "np.random.rand(users.size, len(topics)) * 20 - 10"
   ]
  },
  {
   "cell_type": "code",
   "execution_count": 8,
   "metadata": {},
   "outputs": [
    {
     "data": {
      "text/plain": [
       "{4, 5, 6, 8, 9}"
      ]
     },
     "execution_count": 8,
     "metadata": {},
     "output_type": "execute_result"
    }
   ],
   "source": [
    "dic = set()\n",
    "dic.update(pd.Series(users.index).sample(5))\n",
    "dic"
   ]
  },
  {
   "cell_type": "code",
   "execution_count": 9,
   "metadata": {},
   "outputs": [
    {
     "data": {
      "text/html": [
       "<div>\n",
       "<style scoped>\n",
       "    .dataframe tbody tr th:only-of-type {\n",
       "        vertical-align: middle;\n",
       "    }\n",
       "\n",
       "    .dataframe tbody tr th {\n",
       "        vertical-align: top;\n",
       "    }\n",
       "\n",
       "    .dataframe thead th {\n",
       "        text-align: right;\n",
       "    }\n",
       "</style>\n",
       "<table border=\"1\" class=\"dataframe\">\n",
       "  <thead>\n",
       "    <tr style=\"text-align: right;\">\n",
       "      <th></th>\n",
       "      <th>Privacy</th>\n",
       "      <th>Public Transport</th>\n",
       "    </tr>\n",
       "  </thead>\n",
       "  <tbody>\n",
       "    <tr>\n",
       "      <th>0</th>\n",
       "      <td>-5.684888</td>\n",
       "      <td>3.467084</td>\n",
       "    </tr>\n",
       "    <tr>\n",
       "      <th>1</th>\n",
       "      <td>-2.205640</td>\n",
       "      <td>4.366618</td>\n",
       "    </tr>\n",
       "    <tr>\n",
       "      <th>2</th>\n",
       "      <td>3.440608</td>\n",
       "      <td>-0.451267</td>\n",
       "    </tr>\n",
       "    <tr>\n",
       "      <th>3</th>\n",
       "      <td>1.788814</td>\n",
       "      <td>-0.788683</td>\n",
       "    </tr>\n",
       "    <tr>\n",
       "      <th>4</th>\n",
       "      <td>-0.331159</td>\n",
       "      <td>-6.288004</td>\n",
       "    </tr>\n",
       "    <tr>\n",
       "      <th>5</th>\n",
       "      <td>-1.688419</td>\n",
       "      <td>6.175798</td>\n",
       "    </tr>\n",
       "    <tr>\n",
       "      <th>6</th>\n",
       "      <td>-1.413084</td>\n",
       "      <td>-8.097614</td>\n",
       "    </tr>\n",
       "    <tr>\n",
       "      <th>7</th>\n",
       "      <td>-6.980694</td>\n",
       "      <td>-6.771360</td>\n",
       "    </tr>\n",
       "    <tr>\n",
       "      <th>8</th>\n",
       "      <td>-8.626880</td>\n",
       "      <td>3.031329</td>\n",
       "    </tr>\n",
       "    <tr>\n",
       "      <th>9</th>\n",
       "      <td>0.573839</td>\n",
       "      <td>7.070825</td>\n",
       "    </tr>\n",
       "  </tbody>\n",
       "</table>\n",
       "</div>"
      ],
      "text/plain": [
       "    Privacy  Public Transport\n",
       "0 -5.684888          3.467084\n",
       "1 -2.205640          4.366618\n",
       "2  3.440608         -0.451267\n",
       "3  1.788814         -0.788683\n",
       "4 -0.331159         -6.288004\n",
       "5 -1.688419          6.175798\n",
       "6 -1.413084         -8.097614\n",
       "7 -6.980694         -6.771360\n",
       "8 -8.626880          3.031329\n",
       "9  0.573839          7.070825"
      ]
     },
     "execution_count": 9,
     "metadata": {},
     "output_type": "execute_result"
    }
   ],
   "source": [
    "deltas"
   ]
  },
  {
   "cell_type": "code",
   "execution_count": 10,
   "metadata": {
    "scrolled": true
   },
   "outputs": [
    {
     "data": {
      "text/html": [
       "<div>\n",
       "<style scoped>\n",
       "    .dataframe tbody tr th:only-of-type {\n",
       "        vertical-align: middle;\n",
       "    }\n",
       "\n",
       "    .dataframe tbody tr th {\n",
       "        vertical-align: top;\n",
       "    }\n",
       "\n",
       "    .dataframe thead th {\n",
       "        text-align: right;\n",
       "    }\n",
       "</style>\n",
       "<table border=\"1\" class=\"dataframe\">\n",
       "  <thead>\n",
       "    <tr style=\"text-align: right;\">\n",
       "      <th></th>\n",
       "      <th>Privacy</th>\n",
       "      <th>Public Transport</th>\n",
       "    </tr>\n",
       "  </thead>\n",
       "  <tbody>\n",
       "    <tr>\n",
       "      <th>4</th>\n",
       "      <td>0.398958</td>\n",
       "      <td>3.948671</td>\n",
       "    </tr>\n",
       "    <tr>\n",
       "      <th>5</th>\n",
       "      <td>9.537877</td>\n",
       "      <td>-6.905367</td>\n",
       "    </tr>\n",
       "    <tr>\n",
       "      <th>6</th>\n",
       "      <td>8.849571</td>\n",
       "      <td>-7.603097</td>\n",
       "    </tr>\n",
       "    <tr>\n",
       "      <th>8</th>\n",
       "      <td>-2.682900</td>\n",
       "      <td>-6.934189</td>\n",
       "    </tr>\n",
       "    <tr>\n",
       "      <th>9</th>\n",
       "      <td>-6.323327</td>\n",
       "      <td>8.164920</td>\n",
       "    </tr>\n",
       "  </tbody>\n",
       "</table>\n",
       "</div>"
      ],
      "text/plain": [
       "    Privacy  Public Transport\n",
       "4  0.398958          3.948671\n",
       "5  9.537877         -6.905367\n",
       "6  8.849571         -7.603097\n",
       "8 -2.682900         -6.934189\n",
       "9 -6.323327          8.164920"
      ]
     },
     "execution_count": 10,
     "metadata": {},
     "output_type": "execute_result"
    }
   ],
   "source": [
    "values.loc[dic]"
   ]
  },
  {
   "cell_type": "code",
   "execution_count": 11,
   "metadata": {},
   "outputs": [],
   "source": [
    "deltas.loc[dic, \"Privacy\"] += values.loc[dic, \"Privacy\"]"
   ]
  },
  {
   "cell_type": "code",
   "execution_count": 12,
   "metadata": {},
   "outputs": [
    {
     "data": {
      "text/html": [
       "<div>\n",
       "<style scoped>\n",
       "    .dataframe tbody tr th:only-of-type {\n",
       "        vertical-align: middle;\n",
       "    }\n",
       "\n",
       "    .dataframe tbody tr th {\n",
       "        vertical-align: top;\n",
       "    }\n",
       "\n",
       "    .dataframe thead th {\n",
       "        text-align: right;\n",
       "    }\n",
       "</style>\n",
       "<table border=\"1\" class=\"dataframe\">\n",
       "  <thead>\n",
       "    <tr style=\"text-align: right;\">\n",
       "      <th></th>\n",
       "      <th>Privacy</th>\n",
       "      <th>Public Transport</th>\n",
       "    </tr>\n",
       "  </thead>\n",
       "  <tbody>\n",
       "    <tr>\n",
       "      <th>0</th>\n",
       "      <td>-5.684888</td>\n",
       "      <td>3.467084</td>\n",
       "    </tr>\n",
       "    <tr>\n",
       "      <th>1</th>\n",
       "      <td>-2.205640</td>\n",
       "      <td>4.366618</td>\n",
       "    </tr>\n",
       "    <tr>\n",
       "      <th>2</th>\n",
       "      <td>3.440608</td>\n",
       "      <td>-0.451267</td>\n",
       "    </tr>\n",
       "    <tr>\n",
       "      <th>3</th>\n",
       "      <td>1.788814</td>\n",
       "      <td>-0.788683</td>\n",
       "    </tr>\n",
       "    <tr>\n",
       "      <th>4</th>\n",
       "      <td>0.067799</td>\n",
       "      <td>-6.288004</td>\n",
       "    </tr>\n",
       "    <tr>\n",
       "      <th>5</th>\n",
       "      <td>7.849457</td>\n",
       "      <td>6.175798</td>\n",
       "    </tr>\n",
       "    <tr>\n",
       "      <th>6</th>\n",
       "      <td>7.436486</td>\n",
       "      <td>-8.097614</td>\n",
       "    </tr>\n",
       "    <tr>\n",
       "      <th>7</th>\n",
       "      <td>-6.980694</td>\n",
       "      <td>-6.771360</td>\n",
       "    </tr>\n",
       "    <tr>\n",
       "      <th>8</th>\n",
       "      <td>-11.309780</td>\n",
       "      <td>3.031329</td>\n",
       "    </tr>\n",
       "    <tr>\n",
       "      <th>9</th>\n",
       "      <td>-5.749488</td>\n",
       "      <td>7.070825</td>\n",
       "    </tr>\n",
       "  </tbody>\n",
       "</table>\n",
       "</div>"
      ],
      "text/plain": [
       "     Privacy  Public Transport\n",
       "0  -5.684888          3.467084\n",
       "1  -2.205640          4.366618\n",
       "2   3.440608         -0.451267\n",
       "3   1.788814         -0.788683\n",
       "4   0.067799         -6.288004\n",
       "5   7.849457          6.175798\n",
       "6   7.436486         -8.097614\n",
       "7  -6.980694         -6.771360\n",
       "8 -11.309780          3.031329\n",
       "9  -5.749488          7.070825"
      ]
     },
     "execution_count": 12,
     "metadata": {},
     "output_type": "execute_result"
    }
   ],
   "source": [
    "deltas "
   ]
  },
  {
   "cell_type": "code",
   "execution_count": 13,
   "metadata": {},
   "outputs": [
    {
     "data": {
      "text/plain": [
       "9.53787665245644"
      ]
     },
     "execution_count": 13,
     "metadata": {},
     "output_type": "execute_result"
    }
   ],
   "source": [
    "values.loc[5, \"Privacy\"]"
   ]
  },
  {
   "cell_type": "code",
   "execution_count": 14,
   "metadata": {},
   "outputs": [
    {
     "data": {
      "text/html": [
       "<div>\n",
       "<style scoped>\n",
       "    .dataframe tbody tr th:only-of-type {\n",
       "        vertical-align: middle;\n",
       "    }\n",
       "\n",
       "    .dataframe tbody tr th {\n",
       "        vertical-align: top;\n",
       "    }\n",
       "\n",
       "    .dataframe thead th {\n",
       "        text-align: right;\n",
       "    }\n",
       "</style>\n",
       "<table border=\"1\" class=\"dataframe\">\n",
       "  <thead>\n",
       "    <tr style=\"text-align: right;\">\n",
       "      <th></th>\n",
       "      <th>Privacy</th>\n",
       "      <th>Public Transport</th>\n",
       "    </tr>\n",
       "  </thead>\n",
       "  <tbody>\n",
       "    <tr>\n",
       "      <th>0</th>\n",
       "      <td>-5.684888</td>\n",
       "      <td>3.467084</td>\n",
       "    </tr>\n",
       "    <tr>\n",
       "      <th>1</th>\n",
       "      <td>-2.205640</td>\n",
       "      <td>4.366618</td>\n",
       "    </tr>\n",
       "    <tr>\n",
       "      <th>2</th>\n",
       "      <td>3.440608</td>\n",
       "      <td>-0.451267</td>\n",
       "    </tr>\n",
       "    <tr>\n",
       "      <th>3</th>\n",
       "      <td>1.788814</td>\n",
       "      <td>-0.788683</td>\n",
       "    </tr>\n",
       "    <tr>\n",
       "      <th>4</th>\n",
       "      <td>0.067799</td>\n",
       "      <td>-6.288004</td>\n",
       "    </tr>\n",
       "    <tr>\n",
       "      <th>5</th>\n",
       "      <td>7.849457</td>\n",
       "      <td>6.175798</td>\n",
       "    </tr>\n",
       "    <tr>\n",
       "      <th>6</th>\n",
       "      <td>7.436486</td>\n",
       "      <td>-8.097614</td>\n",
       "    </tr>\n",
       "    <tr>\n",
       "      <th>7</th>\n",
       "      <td>-6.980694</td>\n",
       "      <td>-6.771360</td>\n",
       "    </tr>\n",
       "    <tr>\n",
       "      <th>8</th>\n",
       "      <td>-10.000000</td>\n",
       "      <td>3.031329</td>\n",
       "    </tr>\n",
       "    <tr>\n",
       "      <th>9</th>\n",
       "      <td>-5.749488</td>\n",
       "      <td>7.070825</td>\n",
       "    </tr>\n",
       "  </tbody>\n",
       "</table>\n",
       "</div>"
      ],
      "text/plain": [
       "     Privacy  Public Transport\n",
       "0  -5.684888          3.467084\n",
       "1  -2.205640          4.366618\n",
       "2   3.440608         -0.451267\n",
       "3   1.788814         -0.788683\n",
       "4   0.067799         -6.288004\n",
       "5   7.849457          6.175798\n",
       "6   7.436486         -8.097614\n",
       "7  -6.980694         -6.771360\n",
       "8 -10.000000          3.031329\n",
       "9  -5.749488          7.070825"
      ]
     },
     "execution_count": 14,
     "metadata": {},
     "output_type": "execute_result"
    }
   ],
   "source": [
    "deltas.clip(-10, 10)"
   ]
  },
  {
   "cell_type": "code",
   "execution_count": null,
   "metadata": {},
   "outputs": [],
   "source": []
  },
  {
   "cell_type": "code",
   "execution_count": 18,
   "metadata": {},
   "outputs": [
    {
     "name": "stdout",
     "output_type": "stream",
     "text": [
      "Beginning tick 0\n",
      "Beginning tick 1\n",
      "Beginning tick 2\n",
      "Beginning tick 3\n",
      "Beginning tick 4\n",
      "Beginning tick 5\n",
      "Beginning tick 6\n",
      "Beginning tick 7\n",
      "Beginning tick 8\n",
      "Beginning tick 9\n",
      "Beginning tick 10\n"
     ]
    }
   ],
   "source": [
    "sim = Simulation.Simulation(\"test_param.json\")\n",
    "sim.run()"
   ]
  },
  {
   "cell_type": "code",
   "execution_count": null,
   "metadata": {},
   "outputs": [],
   "source": []
  },
  {
   "cell_type": "code",
   "execution_count": null,
   "metadata": {},
   "outputs": [],
   "source": [
    "class Test:\n",
    "    VALUE = 1\n",
    "    \n",
    "    def __init__(self):\n",
    "        print(Test.VALUE)\n",
    "        \n",
    "Test.VALUE"
   ]
  },
  {
   "cell_type": "code",
   "execution_count": null,
   "metadata": {},
   "outputs": [],
   "source": [
    "with open(\"test_param.json\", 'r') as text:\n",
    "    json.loads(text.read())"
   ]
  },
  {
   "cell_type": "code",
   "execution_count": null,
   "metadata": {},
   "outputs": [],
   "source": [
    "json.loads?"
   ]
  },
  {
   "cell_type": "code",
   "execution_count": null,
   "metadata": {},
   "outputs": [],
   "source": [
    "random?"
   ]
  },
  {
   "cell_type": "code",
   "execution_count": null,
   "metadata": {},
   "outputs": [],
   "source": []
  }
 ],
 "metadata": {
  "kernelspec": {
   "display_name": "Python 3",
   "language": "python",
   "name": "python3"
  },
  "language_info": {
   "codemirror_mode": {
    "name": "ipython",
    "version": 3
   },
   "file_extension": ".py",
   "mimetype": "text/x-python",
   "name": "python",
   "nbconvert_exporter": "python",
   "pygments_lexer": "ipython3",
   "version": "3.7.2"
  }
 },
 "nbformat": 4,
 "nbformat_minor": 2
}
